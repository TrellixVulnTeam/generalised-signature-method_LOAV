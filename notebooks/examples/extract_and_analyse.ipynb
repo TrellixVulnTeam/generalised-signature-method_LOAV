{
 "cells": [
  {
   "cell_type": "code",
   "execution_count": 1,
   "metadata": {},
   "outputs": [],
   "source": [
    "import sys; sys.path.insert(0, '../../')\n",
    "from definitions import *\n",
    "from notebooks.nb_imports import *"
   ]
  },
  {
   "cell_type": "code",
   "execution_count": 2,
   "metadata": {},
   "outputs": [],
   "source": [
    "from experiments.utils import create_run_frame\n",
    "from experiments.analyse import analyse\n",
    "from src.visualization.critical_difference import plot_cd_diagram, wilcoxon_holm"
   ]
  },
  {
   "cell_type": "markdown",
   "metadata": {},
   "source": [
    "This notebook is to give an example of how to analyse the experiment output. Note the results given are on a subset of the data and is just meant for explanatory purposes. These are **not** the full results on all datasets that are given in the paper. "
   ]
  },
  {
   "cell_type": "markdown",
   "metadata": {},
   "source": [
    "\n",
    "# Experiment evaluation as a single function\n",
    "Here we give a brief overview of how to extract the information from an experiment run, and how to produce the CD-diagram plots as seen in the paper. "
   ]
  },
  {
   "cell_type": "markdown",
   "metadata": {},
   "source": [
    "We actually provide a handy function for analysing the data below, but we give also the steps used in generating this, in case you wish to do something more specialised/some additional analysis to what was given in the paper. "
   ]
  },
  {
   "cell_type": "code",
   "execution_count": 3,
   "metadata": {},
   "outputs": [
    {
     "data": {
      "image/png": "[encoded data removed]",
      "text/plain": [
       "<Figure size 576x126 with 1 Axes>"
      ]
     },
     "metadata": {},
     "output_type": "display_data"
    }
   ],
   "source": [
    "# This saves the test accuracy results, average ranks, and cd-diagram plots to an analysis folder in the experiment directory. \n",
    "ex_dir, config_name = RESULTS_DIR + '/depth_sig', 'depth_sig'\n",
    "results, average_ranks = analyse(ex_dir, config_name)"
   ]
  },
  {
   "cell_type": "code",
   "execution_count": 4,
   "metadata": {},
   "outputs": [
    {
     "data": {
      "text/html": [
       "<div>\n",
       "<style scoped>\n",
       "    .dataframe tbody tr th:only-of-type {\n",
       "        vertical-align: middle;\n",
       "    }\n",
       "\n",
       "    .dataframe tbody tr th {\n",
       "        vertical-align: top;\n",
       "    }\n",
       "\n",
       "    .dataframe thead th {\n",
       "        text-align: right;\n",
       "    }\n",
       "</style>\n",
       "<table border=\"1\" class=\"dataframe\">\n",
       "  <thead>\n",
       "    <tr style=\"text-align: right;\">\n",
       "      <th>transform_id</th>\n",
       "      <th>depth=1sig_tfm=logsignature</th>\n",
       "      <th>depth=1sig_tfm=signature</th>\n",
       "      <th>depth=2sig_tfm=logsignature</th>\n",
       "      <th>depth=2sig_tfm=signature</th>\n",
       "      <th>depth=3sig_tfm=logsignature</th>\n",
       "      <th>depth=3sig_tfm=signature</th>\n",
       "    </tr>\n",
       "    <tr>\n",
       "      <th>ds_name</th>\n",
       "      <th></th>\n",
       "      <th></th>\n",
       "      <th></th>\n",
       "      <th></th>\n",
       "      <th></th>\n",
       "      <th></th>\n",
       "    </tr>\n",
       "  </thead>\n",
       "  <tbody>\n",
       "    <tr>\n",
       "      <th>ArticularyWordRecognition</th>\n",
       "      <td>0.823333</td>\n",
       "      <td>0.833333</td>\n",
       "      <td>0.966667</td>\n",
       "      <td>0.963333</td>\n",
       "      <td>0.986667</td>\n",
       "      <td>0.973333</td>\n",
       "    </tr>\n",
       "    <tr>\n",
       "      <th>AtrialFibrillation</th>\n",
       "      <td>0.400000</td>\n",
       "      <td>0.400000</td>\n",
       "      <td>0.333333</td>\n",
       "      <td>0.400000</td>\n",
       "      <td>NaN</td>\n",
       "      <td>NaN</td>\n",
       "    </tr>\n",
       "    <tr>\n",
       "      <th>BasicMotions</th>\n",
       "      <td>0.625000</td>\n",
       "      <td>0.575000</td>\n",
       "      <td>1.000000</td>\n",
       "      <td>1.000000</td>\n",
       "      <td>NaN</td>\n",
       "      <td>NaN</td>\n",
       "    </tr>\n",
       "    <tr>\n",
       "      <th>CharacterTrajectories</th>\n",
       "      <td>0.402507</td>\n",
       "      <td>0.408078</td>\n",
       "      <td>0.872563</td>\n",
       "      <td>0.875348</td>\n",
       "      <td>0.942201</td>\n",
       "      <td>0.945682</td>\n",
       "    </tr>\n",
       "    <tr>\n",
       "      <th>Cricket</th>\n",
       "      <td>0.319444</td>\n",
       "      <td>0.319444</td>\n",
       "      <td>0.986111</td>\n",
       "      <td>0.972222</td>\n",
       "      <td>1.000000</td>\n",
       "      <td>0.972222</td>\n",
       "    </tr>\n",
       "  </tbody>\n",
       "</table>\n",
       "</div>"
      ],
      "text/plain": [
       "transform_id               depth=1sig_tfm=logsignature  \\\n",
       "ds_name                                                  \n",
       "ArticularyWordRecognition                     0.823333   \n",
       "AtrialFibrillation                            0.400000   \n",
       "BasicMotions                                  0.625000   \n",
       "CharacterTrajectories                         0.402507   \n",
       "Cricket                                       0.319444   \n",
       "\n",
       "transform_id               depth=1sig_tfm=signature  \\\n",
       "ds_name                                               \n",
       "ArticularyWordRecognition                  0.833333   \n",
       "AtrialFibrillation                         0.400000   \n",
       "BasicMotions                               0.575000   \n",
       "CharacterTrajectories                      0.408078   \n",
       "Cricket                                    0.319444   \n",
       "\n",
       "transform_id               depth=2sig_tfm=logsignature  \\\n",
       "ds_name                                                  \n",
       "ArticularyWordRecognition                     0.966667   \n",
       "AtrialFibrillation                            0.333333   \n",
       "BasicMotions                                  1.000000   \n",
       "CharacterTrajectories                         0.872563   \n",
       "Cricket                                       0.986111   \n",
       "\n",
       "transform_id               depth=2sig_tfm=signature  \\\n",
       "ds_name                                               \n",
       "ArticularyWordRecognition                  0.963333   \n",
       "AtrialFibrillation                         0.400000   \n",
       "BasicMotions                               1.000000   \n",
       "CharacterTrajectories                      0.875348   \n",
       "Cricket                                    0.972222   \n",
       "\n",
       "transform_id               depth=3sig_tfm=logsignature  \\\n",
       "ds_name                                                  \n",
       "ArticularyWordRecognition                     0.986667   \n",
       "AtrialFibrillation                                 NaN   \n",
       "BasicMotions                                       NaN   \n",
       "CharacterTrajectories                         0.942201   \n",
       "Cricket                                       1.000000   \n",
       "\n",
       "transform_id               depth=3sig_tfm=signature  \n",
       "ds_name                                              \n",
       "ArticularyWordRecognition                  0.973333  \n",
       "AtrialFibrillation                              NaN  \n",
       "BasicMotions                                    NaN  \n",
       "CharacterTrajectories                      0.945682  \n",
       "Cricket                                    0.972222  "
      ]
     },
     "execution_count": 4,
     "metadata": {},
     "output_type": "execute_result"
    }
   ],
   "source": [
    "results.head()"
   ]
  },
  {
   "cell_type": "markdown",
   "metadata": {},
   "source": [
    "<br>\n",
    "<br>\n",
    "\n",
    "# Experiment evaluation in individual steps"
   ]
  },
  {
   "cell_type": "markdown",
   "metadata": {},
   "source": [
    "## 1. Extract the experiment information"
   ]
  },
  {
   "cell_type": "markdown",
   "metadata": {},
   "source": [
    "Start by creating a dataframe for the run that contains all configuration and metrics information."
   ]
  },
  {
   "cell_type": "code",
   "execution_count": 5,
   "metadata": {},
   "outputs": [
    {
     "data": {
      "text/html": [
       "<div>\n",
       "<style scoped>\n",
       "    .dataframe tbody tr th:only-of-type {\n",
       "        vertical-align: middle;\n",
       "    }\n",
       "\n",
       "    .dataframe tbody tr th {\n",
       "        vertical-align: top;\n",
       "    }\n",
       "\n",
       "    .dataframe thead th {\n",
       "        text-align: right;\n",
       "    }\n",
       "</style>\n",
       "<table border=\"1\" class=\"dataframe\">\n",
       "  <thead>\n",
       "    <tr style=\"text-align: right;\">\n",
       "      <th></th>\n",
       "      <th>ds_name</th>\n",
       "      <th>acc.test</th>\n",
       "      <th>acc.train</th>\n",
       "      <th>augment_out</th>\n",
       "      <th>clf</th>\n",
       "      <th>depth</th>\n",
       "      <th>disintegrations</th>\n",
       "      <th>ds_dim</th>\n",
       "      <th>ds_length</th>\n",
       "      <th>error</th>\n",
       "      <th>...</th>\n",
       "      <th>rescaling</th>\n",
       "      <th>sanity_dim</th>\n",
       "      <th>save_best_model</th>\n",
       "      <th>scaling</th>\n",
       "      <th>sig_tfm</th>\n",
       "      <th>tfms</th>\n",
       "      <th>train_test_split</th>\n",
       "      <th>training_time</th>\n",
       "      <th>verbose</th>\n",
       "      <th>window</th>\n",
       "    </tr>\n",
       "  </thead>\n",
       "  <tbody>\n",
       "    <tr>\n",
       "      <th>1</th>\n",
       "      <td>Cricket</td>\n",
       "      <td>0.319444</td>\n",
       "      <td>0.879630</td>\n",
       "      <td>None</td>\n",
       "      <td>rf</td>\n",
       "      <td>1</td>\n",
       "      <td>None</td>\n",
       "      <td>6</td>\n",
       "      <td>1197</td>\n",
       "      <td>NaN</td>\n",
       "      <td>...</td>\n",
       "      <td>pre</td>\n",
       "      <td>100000.0</td>\n",
       "      <td>False</td>\n",
       "      <td>stdsc</td>\n",
       "      <td>signature</td>\n",
       "      <td>['addtime']</td>\n",
       "      <td>original</td>\n",
       "      <td>0.271582</td>\n",
       "      <td>2</td>\n",
       "      <td>['Global', {}]</td>\n",
       "    </tr>\n",
       "    <tr>\n",
       "      <th>2</th>\n",
       "      <td>Cricket</td>\n",
       "      <td>0.319444</td>\n",
       "      <td>1.000000</td>\n",
       "      <td>None</td>\n",
       "      <td>rf</td>\n",
       "      <td>1</td>\n",
       "      <td>None</td>\n",
       "      <td>6</td>\n",
       "      <td>1197</td>\n",
       "      <td>NaN</td>\n",
       "      <td>...</td>\n",
       "      <td>pre</td>\n",
       "      <td>100000.0</td>\n",
       "      <td>False</td>\n",
       "      <td>stdsc</td>\n",
       "      <td>logsignature</td>\n",
       "      <td>['addtime']</td>\n",
       "      <td>original</td>\n",
       "      <td>0.970485</td>\n",
       "      <td>2</td>\n",
       "      <td>['Global', {}]</td>\n",
       "    </tr>\n",
       "    <tr>\n",
       "      <th>3</th>\n",
       "      <td>ArticularyWordRecognition</td>\n",
       "      <td>0.833333</td>\n",
       "      <td>1.000000</td>\n",
       "      <td>None</td>\n",
       "      <td>rf</td>\n",
       "      <td>1</td>\n",
       "      <td>None</td>\n",
       "      <td>9</td>\n",
       "      <td>144</td>\n",
       "      <td>NaN</td>\n",
       "      <td>...</td>\n",
       "      <td>pre</td>\n",
       "      <td>100000.0</td>\n",
       "      <td>False</td>\n",
       "      <td>stdsc</td>\n",
       "      <td>signature</td>\n",
       "      <td>['addtime']</td>\n",
       "      <td>original</td>\n",
       "      <td>1.037782</td>\n",
       "      <td>2</td>\n",
       "      <td>['Global', {}]</td>\n",
       "    </tr>\n",
       "    <tr>\n",
       "      <th>4</th>\n",
       "      <td>ArticularyWordRecognition</td>\n",
       "      <td>0.823333</td>\n",
       "      <td>1.000000</td>\n",
       "      <td>None</td>\n",
       "      <td>rf</td>\n",
       "      <td>1</td>\n",
       "      <td>None</td>\n",
       "      <td>9</td>\n",
       "      <td>144</td>\n",
       "      <td>NaN</td>\n",
       "      <td>...</td>\n",
       "      <td>pre</td>\n",
       "      <td>100000.0</td>\n",
       "      <td>False</td>\n",
       "      <td>stdsc</td>\n",
       "      <td>logsignature</td>\n",
       "      <td>['addtime']</td>\n",
       "      <td>original</td>\n",
       "      <td>2.417308</td>\n",
       "      <td>2</td>\n",
       "      <td>['Global', {}]</td>\n",
       "    </tr>\n",
       "    <tr>\n",
       "      <th>5</th>\n",
       "      <td>CharacterTrajectories</td>\n",
       "      <td>0.408078</td>\n",
       "      <td>0.839662</td>\n",
       "      <td>None</td>\n",
       "      <td>rf</td>\n",
       "      <td>1</td>\n",
       "      <td>None</td>\n",
       "      <td>3</td>\n",
       "      <td>182</td>\n",
       "      <td>NaN</td>\n",
       "      <td>...</td>\n",
       "      <td>pre</td>\n",
       "      <td>100000.0</td>\n",
       "      <td>False</td>\n",
       "      <td>stdsc</td>\n",
       "      <td>signature</td>\n",
       "      <td>['addtime']</td>\n",
       "      <td>original</td>\n",
       "      <td>1.740877</td>\n",
       "      <td>2</td>\n",
       "      <td>['Global', {}]</td>\n",
       "    </tr>\n",
       "  </tbody>\n",
       "</table>\n",
       "<p>5 rows × 38 columns</p>\n",
       "</div>"
      ],
      "text/plain": [
       "                     ds_name  acc.test  acc.train augment_out clf depth  \\\n",
       "1                    Cricket  0.319444   0.879630        None  rf     1   \n",
       "2                    Cricket  0.319444   1.000000        None  rf     1   \n",
       "3  ArticularyWordRecognition  0.833333   1.000000        None  rf     1   \n",
       "4  ArticularyWordRecognition  0.823333   1.000000        None  rf     1   \n",
       "5      CharacterTrajectories  0.408078   0.839662        None  rf     1   \n",
       "\n",
       "  disintegrations  ds_dim  ds_length  error  ...  rescaling  sanity_dim  \\\n",
       "1            None       6       1197    NaN  ...        pre    100000.0   \n",
       "2            None       6       1197    NaN  ...        pre    100000.0   \n",
       "3            None       9        144    NaN  ...        pre    100000.0   \n",
       "4            None       9        144    NaN  ...        pre    100000.0   \n",
       "5            None       3        182    NaN  ...        pre    100000.0   \n",
       "\n",
       "   save_best_model  scaling       sig_tfm         tfms  train_test_split  \\\n",
       "1            False    stdsc     signature  ['addtime']          original   \n",
       "2            False    stdsc  logsignature  ['addtime']          original   \n",
       "3            False    stdsc     signature  ['addtime']          original   \n",
       "4            False    stdsc  logsignature  ['addtime']          original   \n",
       "5            False    stdsc     signature  ['addtime']          original   \n",
       "\n",
       "   training_time  verbose          window  \n",
       "1       0.271582        2  ['Global', {}]  \n",
       "2       0.970485        2  ['Global', {}]  \n",
       "3       1.037782        2  ['Global', {}]  \n",
       "4       2.417308        2  ['Global', {}]  \n",
       "5       1.740877        2  ['Global', {}]  \n",
       "\n",
       "[5 rows x 38 columns]"
      ]
     },
     "execution_count": 5,
     "metadata": {},
     "output_type": "execute_result"
    }
   ],
   "source": [
    "df = create_run_frame(RESULTS_DIR + '/depth_sig')\n",
    "df.head()"
   ]
  },
  {
   "cell_type": "markdown",
   "metadata": {},
   "source": [
    "## 2. Create a unique `transform_id` column"
   ]
  },
  {
   "cell_type": "markdown",
   "metadata": {},
   "source": [
    "This example is for the `depth_sig` configuration where we are interested in the performance for different depths with the signature and logsignature transformations.\n",
    "\n",
    "Here we have varied the `depth` and `sig_tfm` variables. So first make a column `transform_id` that works as a unique identifier of these two things. "
   ]
  },
  {
   "cell_type": "code",
   "execution_count": 6,
   "metadata": {},
   "outputs": [],
   "source": [
    "df['transform_id'] = df['sig_tfm'].astype(str) + df['depth'].astype(str)"
   ]
  },
  {
   "cell_type": "markdown",
   "metadata": {},
   "source": [
    "## 3. Take a maximum over the classifiers\n",
    "We took the accuracy to be a maximum over the classifiers. Doing this reduces onto one entry for each unique `ds_name` and `transform_id` column. "
   ]
  },
  {
   "cell_type": "code",
   "execution_count": 7,
   "metadata": {},
   "outputs": [],
   "source": [
    "results = df.groupby(['ds_name', 'transform_id', 'clf'])['acc.test'].apply(max)\n",
    "results = results.reset_index([1, 2]).drop('clf', axis=1)"
   ]
  },
  {
   "cell_type": "markdown",
   "metadata": {},
   "source": [
    "## 4. Pivot to make a results matrix"
   ]
  },
  {
   "cell_type": "markdown",
   "metadata": {},
   "source": [
    "Now we have a unique value for every `transform_id` and dataset. We just now need to get `transform_id` to be the column, and `ds_name` to be the index generating a 2x2 matrix of results, then we can generate the CD diagram."
   ]
  },
  {
   "cell_type": "code",
   "execution_count": 8,
   "metadata": {},
   "outputs": [],
   "source": [
    "pivoted = results.pivot_table(values='acc.test', index='ds_name', columns='transform_id', aggfunc=np.max)"
   ]
  },
  {
   "cell_type": "markdown",
   "metadata": {},
   "source": [
    "This pivoted table is now in the form of the tables we give in the Appendix of the paper. "
   ]
  },
  {
   "cell_type": "code",
   "execution_count": 9,
   "metadata": {},
   "outputs": [
    {
     "data": {
      "text/html": [
       "<div>\n",
       "<style scoped>\n",
       "    .dataframe tbody tr th:only-of-type {\n",
       "        vertical-align: middle;\n",
       "    }\n",
       "\n",
       "    .dataframe tbody tr th {\n",
       "        vertical-align: top;\n",
       "    }\n",
       "\n",
       "    .dataframe thead th {\n",
       "        text-align: right;\n",
       "    }\n",
       "</style>\n",
       "<table border=\"1\" class=\"dataframe\">\n",
       "  <thead>\n",
       "    <tr style=\"text-align: right;\">\n",
       "      <th>transform_id</th>\n",
       "      <th>logsignature1</th>\n",
       "      <th>logsignature2</th>\n",
       "      <th>logsignature3</th>\n",
       "      <th>signature1</th>\n",
       "      <th>signature2</th>\n",
       "      <th>signature3</th>\n",
       "    </tr>\n",
       "    <tr>\n",
       "      <th>ds_name</th>\n",
       "      <th></th>\n",
       "      <th></th>\n",
       "      <th></th>\n",
       "      <th></th>\n",
       "      <th></th>\n",
       "      <th></th>\n",
       "    </tr>\n",
       "  </thead>\n",
       "  <tbody>\n",
       "    <tr>\n",
       "      <th>ArticularyWordRecognition</th>\n",
       "      <td>0.823333</td>\n",
       "      <td>0.966667</td>\n",
       "      <td>0.986667</td>\n",
       "      <td>0.833333</td>\n",
       "      <td>0.963333</td>\n",
       "      <td>0.973333</td>\n",
       "    </tr>\n",
       "    <tr>\n",
       "      <th>AtrialFibrillation</th>\n",
       "      <td>0.400000</td>\n",
       "      <td>0.333333</td>\n",
       "      <td>NaN</td>\n",
       "      <td>0.400000</td>\n",
       "      <td>0.400000</td>\n",
       "      <td>NaN</td>\n",
       "    </tr>\n",
       "    <tr>\n",
       "      <th>BasicMotions</th>\n",
       "      <td>0.625000</td>\n",
       "      <td>1.000000</td>\n",
       "      <td>NaN</td>\n",
       "      <td>0.575000</td>\n",
       "      <td>1.000000</td>\n",
       "      <td>NaN</td>\n",
       "    </tr>\n",
       "    <tr>\n",
       "      <th>CharacterTrajectories</th>\n",
       "      <td>0.402507</td>\n",
       "      <td>0.872563</td>\n",
       "      <td>0.942201</td>\n",
       "      <td>0.408078</td>\n",
       "      <td>0.875348</td>\n",
       "      <td>0.945682</td>\n",
       "    </tr>\n",
       "    <tr>\n",
       "      <th>Cricket</th>\n",
       "      <td>0.319444</td>\n",
       "      <td>0.986111</td>\n",
       "      <td>1.000000</td>\n",
       "      <td>0.319444</td>\n",
       "      <td>0.972222</td>\n",
       "      <td>0.972222</td>\n",
       "    </tr>\n",
       "  </tbody>\n",
       "</table>\n",
       "</div>"
      ],
      "text/plain": [
       "transform_id               logsignature1  logsignature2  logsignature3  \\\n",
       "ds_name                                                                  \n",
       "ArticularyWordRecognition       0.823333       0.966667       0.986667   \n",
       "AtrialFibrillation              0.400000       0.333333            NaN   \n",
       "BasicMotions                    0.625000       1.000000            NaN   \n",
       "CharacterTrajectories           0.402507       0.872563       0.942201   \n",
       "Cricket                         0.319444       0.986111       1.000000   \n",
       "\n",
       "transform_id               signature1  signature2  signature3  \n",
       "ds_name                                                        \n",
       "ArticularyWordRecognition    0.833333    0.963333    0.973333  \n",
       "AtrialFibrillation           0.400000    0.400000         NaN  \n",
       "BasicMotions                 0.575000    1.000000         NaN  \n",
       "CharacterTrajectories        0.408078    0.875348    0.945682  \n",
       "Cricket                      0.319444    0.972222    0.972222  "
      ]
     },
     "execution_count": 9,
     "metadata": {},
     "output_type": "execute_result"
    }
   ],
   "source": [
    "pivoted.head()"
   ]
  },
  {
   "cell_type": "markdown",
   "metadata": {},
   "source": [
    "## 5. Plot the CD-diagram"
   ]
  },
  {
   "cell_type": "markdown",
   "metadata": {},
   "source": [
    "The `pivoted` table is in the format where we can use the `plot_cd_diagram` function, these are the results that is seen the paper."
   ]
  },
  {
   "cell_type": "code",
   "execution_count": 10,
   "metadata": {},
   "outputs": [
    {
     "data": {
      "image/png": "[encoded data removed]",
      "text/plain": [
       "<Figure size 576x126 with 1 Axes>"
      ]
     },
     "metadata": {},
     "output_type": "display_data"
    }
   ],
   "source": [
    "plot_cd_diagram(pivoted)"
   ]
  },
  {
   "cell_type": "markdown",
   "metadata": {},
   "source": [
    "We can also extract the average ranks for each method, these correspond to the 'Average ranks' column that is given in all the tables in the Appendix of the paper. "
   ]
  },
  {
   "cell_type": "code",
   "execution_count": 11,
   "metadata": {},
   "outputs": [
    {
     "data": {
      "text/plain": [
       "transform_id\n",
       "signature3       1.875\n",
       "logsignature3    2.000\n",
       "signature2       2.550\n",
       "logsignature2    2.600\n",
       "signature1       3.650\n",
       "logsignature1    4.050\n",
       "dtype: float64"
      ]
     },
     "execution_count": 11,
     "metadata": {},
     "output_type": "execute_result"
    }
   ],
   "source": [
    "_, scores = wilcoxon_holm(pivoted)\n",
    "scores"
   ]
  },
  {
   "cell_type": "code",
   "execution_count": null,
   "metadata": {},
   "outputs": [],
   "source": []
  }
 ],
 "metadata": {
  "kernelspec": {
   "display_name": "Python 3",
   "language": "python",
   "name": "python3"
  },
  "language_info": {
   "codemirror_mode": {
    "name": "ipython",
    "version": 3
   },
   "file_extension": ".py",
   "mimetype": "text/x-python",
   "name": "python",
   "nbconvert_exporter": "python",
   "pygments_lexer": "ipython3",
   "version": "3.8.5"
  }
 },
 "nbformat": 4,
 "nbformat_minor": 4
}
