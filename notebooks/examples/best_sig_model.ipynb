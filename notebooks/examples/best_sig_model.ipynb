{
 "cells": [
  {
   "cell_type": "code",
   "execution_count": 1,
   "metadata": {},
   "outputs": [],
   "source": [
    "import sys; sys.path.insert(0, '../../')\n",
    "from definitions import *\n",
    "from notebooks.nb_imports import *"
   ]
  },
  {
   "cell_type": "code",
   "execution_count": 3,
   "metadata": {},
   "outputs": [],
   "source": [
    "from experiments.utils import create_run_frame\n",
    "from src.visualization.critical_difference import plot_cd_diagram, wilcoxon_holm"
   ]
  },
  {
   "cell_type": "markdown",
   "metadata": {},
   "source": [
    "# Evaluating the best signature pipeline model\n",
    "Here we give the process for extracting the best signature pipeline model, as defined in the paper. The code is a little different to that seen in `extract_and_analyse.ipynb` since we are looking for the maximum over a gridsearch of parameters, rather than comparing between each run of the model."
   ]
  },
  {
   "cell_type": "markdown",
   "metadata": {},
   "source": [
    "## 1. Extract the run information"
   ]
  },
  {
   "cell_type": "code",
   "execution_count": null,
   "metadata": {},
   "outputs": [],
   "source": [
    "df = create_run_frame(RESULTS_DIR + '/best_rf')\n",
    "df.head()"
   ]
  },
  {
   "cell_type": "markdown",
   "metadata": {},
   "source": [
    "## 2. Create the transform_id column"
   ]
  },
  {
   "cell_type": "code",
   "execution_count": 6,
   "metadata": {},
   "outputs": [],
   "source": [
    "# Extract best\n",
    "df['transform_id'] = df['depth'].astype(str) + df['window']\n",
    "df = df.loc[~df[['ds_name', 'transform_id']].duplicated().values]"
   ]
  },
  {
   "cell_type": "markdown",
   "metadata": {},
   "source": [
    "## 3. Maximise over the oob_score\n",
    "We choose the best signature depth and dyadic depth by selecting the model that maximised the oob score on the training set. "
   ]
  },
  {
   "cell_type": "code",
   "execution_count": 8,
   "metadata": {},
   "outputs": [],
   "source": [
    "oob_max = df.groupby(['ds_name']).apply(lambda x: x.loc[x['oob_score.train'].idxmax()])\n",
    "best_test = oob_max['acc.test']\n",
    "\n",
    "# Lets call it the signature pipeline model and fix a naming inconsistency\n",
    "best_test.name = 'Signature pipeline'\n",
    "best_test.rename({'PhonemeSpectra': 'Phoneme'}, inplace=True)"
   ]
  },
  {
   "cell_type": "markdown",
   "metadata": {},
   "source": [
    "## 4. Compare with the pre-existing benchmarks\n",
    "Check the final table in the paper for the pre-existing benchmarks. `best_test` now contains the score of the signature pipeline model on the datasets we tested on."
   ]
  },
  {
   "cell_type": "code",
   "execution_count": 10,
   "metadata": {},
   "outputs": [
    {
     "data": {
      "text/plain": [
       "ds_name\n",
       "ERing             0.937037\n",
       "Epilepsy          0.971014\n",
       "JapaneseVowels    0.959459\n",
       "LSST              0.523520\n",
       "Libras            0.905556\n",
       "NATOPS            0.877778\n",
       "Name: Signature pipeline, dtype: float64"
      ]
     },
     "execution_count": 10,
     "metadata": {},
     "output_type": "execute_result"
    }
   ],
   "source": [
    "best_test"
   ]
  },
  {
   "cell_type": "markdown",
   "metadata": {},
   "source": [
    "## 5. Further evaluation"
   ]
  },
  {
   "cell_type": "markdown",
   "metadata": {},
   "source": [
    "We can now collate the results and perform signed ranks tests, such as is described in the `extract_and_analyse.ipynb` file. We leave this up to the user. "
   ]
  },
  {
   "cell_type": "markdown",
   "metadata": {},
   "source": [
    "## 6. Getting the hyperparameters\n",
    "In case you also want the best hyperparamters for each model, the following code gives an example of how to extract them. "
   ]
  },
  {
   "cell_type": "code",
   "execution_count": 11,
   "metadata": {},
   "outputs": [],
   "source": [
    "# Setup dfs\n",
    "params_used = oob_max[['depth', 'window', 'param_grid', 'training_time']]\n",
    "rf_params = pd.DataFrame(index=params_used.index, columns=['rf__max_depth', 'rf__n_estimators'])"
   ]
  },
  {
   "cell_type": "code",
   "execution_count": 19,
   "metadata": {},
   "outputs": [
    {
     "name": "stderr",
     "output_type": "stream",
     "text": [
      "/usr/local/lib/python3.7/site-packages/ipykernel_launcher.py:2: SettingWithCopyWarning: \n",
      "A value is trying to be set on a copy of a slice from a DataFrame.\n",
      "Try using .loc[row_indexer,col_indexer] = value instead\n",
      "\n",
      "See the caveats in the documentation: http://pandas.pydata.org/pandas-docs/stable/user_guide/indexing.html#returning-a-view-versus-a-copy\n",
      "  \n"
     ]
    }
   ],
   "source": [
    "new_window = params_used['window'].apply(lambda x: eval(x)['py/tuple'][-1]['depth'])\n",
    "params_used['window'] = new_window"
   ]
  },
  {
   "cell_type": "code",
   "execution_count": 20,
   "metadata": {},
   "outputs": [],
   "source": [
    "# Open the param_grid dict into columns for each parameter\n",
    "for idx in params_used.index:\n",
    "    rf_grid = params_used.loc[idx, 'param_grid']\n",
    "    rf_params.loc[idx, 'rf__max_depth'] = rf_grid['classifier__max_depth']\n",
    "    rf_params.loc[idx, 'rf__n_estimators'] = rf_grid['classifier__n_estimators']\n",
    "all_params = pd.concat([params_used.drop('param_grid', axis=1), rf_params], axis=1).fillna('None')\n",
    "all_params['training_time'] = all_params['training_time'].round(1)\n",
    "all_params = all_params[['depth', 'window', 'rf__max_depth', 'rf__n_estimators', 'training_time']]"
   ]
  },
  {
   "cell_type": "code",
   "execution_count": 21,
   "metadata": {},
   "outputs": [
    {
     "data": {
      "text/html": [
       "<div>\n",
       "<style scoped>\n",
       "    .dataframe tbody tr th:only-of-type {\n",
       "        vertical-align: middle;\n",
       "    }\n",
       "\n",
       "    .dataframe tbody tr th {\n",
       "        vertical-align: top;\n",
       "    }\n",
       "\n",
       "    .dataframe thead th {\n",
       "        text-align: right;\n",
       "    }\n",
       "</style>\n",
       "<table border=\"1\" class=\"dataframe\">\n",
       "  <thead>\n",
       "    <tr style=\"text-align: right;\">\n",
       "      <th></th>\n",
       "      <th>depth</th>\n",
       "      <th>window</th>\n",
       "      <th>rf__max_depth</th>\n",
       "      <th>rf__n_estimators</th>\n",
       "      <th>training_time</th>\n",
       "    </tr>\n",
       "    <tr>\n",
       "      <th>ds_name</th>\n",
       "      <th></th>\n",
       "      <th></th>\n",
       "      <th></th>\n",
       "      <th></th>\n",
       "      <th></th>\n",
       "    </tr>\n",
       "  </thead>\n",
       "  <tbody>\n",
       "    <tr>\n",
       "      <th>ERing</th>\n",
       "      <td>3</td>\n",
       "      <td>3</td>\n",
       "      <td>45</td>\n",
       "      <td>50</td>\n",
       "      <td>2.3</td>\n",
       "    </tr>\n",
       "    <tr>\n",
       "      <th>Epilepsy</th>\n",
       "      <td>5</td>\n",
       "      <td>2</td>\n",
       "      <td>16</td>\n",
       "      <td>50</td>\n",
       "      <td>22.2</td>\n",
       "    </tr>\n",
       "    <tr>\n",
       "      <th>JapaneseVowels</th>\n",
       "      <td>3</td>\n",
       "      <td>2</td>\n",
       "      <td>60</td>\n",
       "      <td>50</td>\n",
       "      <td>10.0</td>\n",
       "    </tr>\n",
       "    <tr>\n",
       "      <th>LSST</th>\n",
       "      <td>2</td>\n",
       "      <td>2</td>\n",
       "      <td>12</td>\n",
       "      <td>50</td>\n",
       "      <td>15.1</td>\n",
       "    </tr>\n",
       "    <tr>\n",
       "      <th>Libras</th>\n",
       "      <td>6</td>\n",
       "      <td>2</td>\n",
       "      <td>80</td>\n",
       "      <td>50</td>\n",
       "      <td>13.5</td>\n",
       "    </tr>\n",
       "    <tr>\n",
       "      <th>NATOPS</th>\n",
       "      <td>2</td>\n",
       "      <td>4</td>\n",
       "      <td>60</td>\n",
       "      <td>50</td>\n",
       "      <td>6.4</td>\n",
       "    </tr>\n",
       "  </tbody>\n",
       "</table>\n",
       "</div>"
      ],
      "text/plain": [
       "               depth  window  rf__max_depth  rf__n_estimators  training_time\n",
       "ds_name                                                                     \n",
       "ERing              3       3             45                50            2.3\n",
       "Epilepsy           5       2             16                50           22.2\n",
       "JapaneseVowels     3       2             60                50           10.0\n",
       "LSST               2       2             12                50           15.1\n",
       "Libras             6       2             80                50           13.5\n",
       "NATOPS             2       4             60                50            6.4"
      ]
     },
     "execution_count": 21,
     "metadata": {},
     "output_type": "execute_result"
    }
   ],
   "source": [
    "all_params"
   ]
  },
  {
   "cell_type": "code",
   "execution_count": null,
   "metadata": {},
   "outputs": [],
   "source": []
  }
 ],
 "metadata": {
  "kernelspec": {
   "display_name": "Python 3",
   "language": "python",
   "name": "python3"
  },
  "language_info": {
   "codemirror_mode": {
    "name": "ipython",
    "version": 3
   },
   "file_extension": ".py",
   "mimetype": "text/x-python",
   "name": "python",
   "nbconvert_exporter": "python",
   "pygments_lexer": "ipython3",
   "version": "3.8.5"
  }
 },
 "nbformat": 4,
 "nbformat_minor": 4
}
