{
 "cells": [
  {
   "cell_type": "code",
   "execution_count": 2,
   "metadata": {},
   "outputs": [],
   "source": [
    "from definitions import *\n",
    "from src.visualization.critical_difference import wilcoxon_holm,plot_cd_diagram\n",
    "import matplotlib.pyplot as plt\n",
    "import pandas as pd\n",
    "import warnings\n",
    "warnings.filterwarnings('ignore')"
   ]
  },
  {
   "cell_type": "markdown",
   "metadata": {},
   "source": [
    "# Reproducing the comparison of the signature pipeline\n",
    "\n",
    "Here we give the process of reproducing the analysis of the comparison of the signature pipeline against benchmarks. The file 'comparison_signature_pipeline.csv' contains the results of the Signature Pipeline (see examples/best_sig_model.ipynb' on how to get these results from a best_rf run) and the results from Ruiz et al (2020). we give below the small steps to perform the analysis.\n",
    "\n",
    "## 1. Load the results"
   ]
  },
  {
   "cell_type": "code",
   "execution_count": 14,
   "metadata": {},
   "outputs": [
    {
     "name": "stdout",
     "output_type": "stream",
     "text": [
      "                            MUSE  HIVE COTE  MLCN   DTWA   DTWI  TapNet  \\\n",
      "ArticularyWordRecognition   99.3       99.0  95.7   98.7   98.0    95.7   \n",
      "AtrialFibrillation          40.0       13.3  33.3   26.7   26.7    20.0   \n",
      "BasicMotions               100.0      100.0  87.5  100.0  100.0   100.0   \n",
      "Cricket                     98.6       98.6  91.7  100.0   98.6   100.0   \n",
      "DuckDuckGeese                NaN       48.0  46.0   50.0   48.0    58.0   \n",
      "\n",
      "                            DTWD  Signature Pipeline   gRSF  \n",
      "ArticularyWordRecognition   98.7                97.7   98.3  \n",
      "AtrialFibrillation          20.0                46.7   26.7  \n",
      "BasicMotions                97.5               100.0  100.0  \n",
      "Cricket                    100.0                95.8   98.6  \n",
      "DuckDuckGeese               58.0                44.0   40.0  \n"
     ]
    }
   ],
   "source": [
    "df = pd.read_csv('comparison_signature_pipeline.csv', index_col=0)\n",
    "\n",
    "# Keep only some cols\n",
    "cols = [ 'MUSE', 'HIVE COTE','MLCN','DTWA', 'DTWI', 'TapNet',\n",
    "       'DTWD', 'Signature Pipeline','gRSF']\n",
    "df = df[cols]\n",
    "print(df.head())"
   ]
  },
  {
   "cell_type": "markdown",
   "metadata": {},
   "source": [
    "## 2. Plot a critical difference diagram"
   ]
  },
  {
   "cell_type": "code",
   "execution_count": 16,
   "metadata": {},
   "outputs": [
    {
     "data": {
      "image/png": "[encoded data removed]",
      "text/plain": [
       "<Figure size 504x162 with 1 Axes>"
      ]
     },
     "metadata": {},
     "output_type": "display_data"
    }
   ],
   "source": [
    "plot_cd_diagram(df, textspace=1.0, width=7,textfontsize=13)"
   ]
  },
  {
   "cell_type": "code",
   "execution_count": null,
   "metadata": {},
   "outputs": [],
   "source": []
  }
 ],
 "metadata": {
  "kernelspec": {
   "display_name": "Python 3",
   "language": "python",
   "name": "python3"
  },
  "language_info": {
   "codemirror_mode": {
    "name": "ipython",
    "version": 3
   },
   "file_extension": ".py",
   "mimetype": "text/x-python",
   "name": "python",
   "nbconvert_exporter": "python",
   "pygments_lexer": "ipython3",
   "version": "3.8.5"
  }
 },
 "nbformat": 4,
 "nbformat_minor": 4
}
